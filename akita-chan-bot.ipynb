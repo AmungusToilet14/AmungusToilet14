{
  "nbformat": 4,
  "nbformat_minor": 0,
  "metadata": {
    "colab": {
      "provenance": [],
      "authorship_tag": "ABX9TyOcbiIkesABq6UjN26GH/uo",
      "include_colab_link": true
    },
    "kernelspec": {
      "name": "python3",
      "display_name": "Python 3"
    },
    "language_info": {
      "name": "python"
    }
  },
  "cells": [
    {
      "cell_type": "markdown",
      "metadata": {
        "id": "view-in-github",
        "colab_type": "text"
      },
      "source": [
        "<a href=\"https://colab.research.google.com/github/AmungusToilet14/AmungusToilet14/blob/main/akita-chan-bot.ipynb\" target=\"_parent\"><img src=\"https://colab.research.google.com/assets/colab-badge.svg\" alt=\"Open In Colab\"/></a>"
      ]
    },
    {
      "cell_type": "code",
      "execution_count": null,
      "metadata": {
        "colab": {
          "base_uri": "https://localhost:8080/"
        },
        "id": "b9UgHPWSGDIh",
        "outputId": "6e5ed21b-2a4d-4828-b8a7-87f880bbe765"
      },
      "outputs": [
        {
          "output_type": "stream",
          "name": "stdout",
          "text": [
            "Type your message: hey!\n",
            "Message sent successfully!\n",
            "Type your message: hey!\n",
            "Message sent successfully!\n",
            "Type your message: HeY1\n",
            "Condition not met. No message sent.\n",
            "Type your message: HeY!\n",
            "Message sent successfully!\n",
            "Type your message: \n",
            "Condition not met. No message sent.\n",
            "Type your message: \n",
            "Condition not met. No message sent.\n",
            "Type your message: \n",
            "Condition not met. No message sent.\n",
            "Type your message: \n",
            "Condition not met. No message sent.\n",
            "Type your message: e\n",
            "Condition not met. No message sent.\n"
          ]
        }
      ],
      "source": [
        "import requests\n",
        "\n",
        "# Replace this with your webhook URL\n",
        "WEBHOOK_URL = 'https://discord.com/api/webhooks/1322654626675429387/E63B0O8gEOhHYyQd_7aBp8GZQ7foAaBZQSbCQxd8t81OJEHneHcdi4QZWS6Bu5cungc8'\n",
        "\n",
        "while True:\n",
        "    message = input(\"Type your message: \")\n",
        "\n",
        "    if message.lower() == 'hey!':\n",
        "        data = {\n",
        "            'content': 'Go away...'\n",
        "        }\n",
        "        response = requests.post(WEBHOOK_URL, json=data)\n",
        "\n",
        "        if response.status_code == 204:\n",
        "            print('Message sent successfully!')\n",
        "        else:\n",
        "            print(f'Failed to send message. Status code: {response.status_code}')\n",
        "    else:\n",
        "        print('Condition not met. No message sent.')\n"
      ]
    },
    {
      "cell_type": "code",
      "source": [],
      "metadata": {
        "id": "p7B0sGZyH3E5"
      },
      "execution_count": null,
      "outputs": []
    },
    {
      "cell_type": "markdown",
      "source": [
        "\"Hey akita-chan\" -> \"Go away\"\n",
        "\n",
        "\"Wanna go on a date\" -> \"Of course not\"\n",
        "\n",
        "\"I hate you!\" -> \"Yay!\""
      ],
      "metadata": {
        "id": "7FZFKUhtGO-p"
      }
    },
    {
      "cell_type": "code",
      "source": [
        "import requests\n",
        "\n",
        "# Replace this with your webhook URL\n",
        "WEBHOOK_URL = 'YOUR_WEBHOOK_URL'\n",
        "\n",
        "while True:\n",
        "    message = input(\"Type your message: \")\n",
        "\n",
        "    if message.lower() == 'hey akita-chan':\n",
        "        data = {\n",
        "            'content': 'Go away'\n",
        "        }\n",
        "        response = requests.post(WEBHOOK_URL, json=data)\n",
        "\n",
        "        if response.status_code == 204:\n",
        "            print('Message sent successfully!')\n",
        "        else:\n",
        "            print(f'Failed to send message. Status code: {response.status_code}')\n",
        "    elif message.lower() == 'wanna go on a date':\n",
        "        data = {\n",
        "            'content': 'Of course not'\n",
        "        }\n",
        "        response = requests.post(WEBHOOK_URL, json=data)\n",
        "\n",
        "        if response.status_code == 204:\n",
        "            print('Message sent successfully!')\n",
        "        else:\n",
        "            print(f'Failed to send message. Status code: {response.status_code}')\n",
        "    elif message.lower() == 'i hate you!':\n",
        "        data = {\n",
        "            'content': 'Yay!'\n",
        "        }\n",
        "        response = requests.post(WEBHOOK_URL, json=data)\n",
        "\n",
        "        if response.status_code == 204:\n",
        "            print('Message sent successfully!')\n",
        "        else:\n",
        "            print(f'Failed to send message. Status code: {response.status_code}')\n",
        "    else:\n",
        "        print('Condition not met. No message sent.')\n",
        "\n"
      ],
      "metadata": {
        "id": "2EE3s5i2HFnh"
      },
      "execution_count": null,
      "outputs": []
    },
    {
      "cell_type": "markdown",
      "source": [
        "This one is simple, just change the message box text and it will send it"
      ],
      "metadata": {
        "id": "HcRZncNlId_h"
      }
    },
    {
      "cell_type": "code",
      "source": [
        "import requests\n",
        "\n",
        "# Replace this with your webhook URL\n",
        "WEBHOOK_URL = 'https://discord.com/api/webhooks/1322654626675429387/E63B0O8gEOhHYyQd_7aBp8GZQ7foAaBZQSbCQxd8t81OJEHneHcdi4QZWS6Bu5cungc8'\n",
        "\n",
        "data = {\n",
        "    'content': 'Create Here'\n",
        "}\n",
        "\n",
        "response = requests.post(WEBHOOK_URL, json=data)\n",
        "\n",
        "if response.status_code == 204:\n",
        "    print('Message sent successfully!')\n",
        "else:\n",
        "    print(f'Failed to send message. Status code: {response.status_code}')\n"
      ],
      "metadata": {
        "id": "vFv1iTjPH9ip"
      },
      "execution_count": null,
      "outputs": []
    }
  ]
}